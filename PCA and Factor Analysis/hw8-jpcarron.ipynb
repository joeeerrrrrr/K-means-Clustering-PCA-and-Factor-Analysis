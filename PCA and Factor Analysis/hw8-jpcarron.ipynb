{
 "cells": [
  {
   "cell_type": "code",
   "execution_count": 3,
   "metadata": {
    "collapsed": false
   },
   "outputs": [],
   "source": [
    "import numpy as np\n",
    "import pandas as pd\n",
    "import scipy as sp\n",
    "import sklearn as sk\n",
    "import sklearn.cluster as skc\n",
    "import sklearn.decomposition as skd\n",
    "import sklearn.manifold as skm\n",
    "import sklearn.preprocessing as skp\n",
    "import matplotlib.pyplot as plt\n",
    "%matplotlib inline\n",
    "import seaborn as sns\n",
    "sns.set(style='white', color_codes=True, font_scale=1.3)"
   ]
  },
  {
   "cell_type": "code",
   "execution_count": 4,
   "metadata": {
    "collapsed": true
   },
   "outputs": [],
   "source": [
    "import warnings\n",
    "warnings.filterwarnings('ignore', lineno=590)"
   ]
  },
  {
   "cell_type": "markdown",
   "metadata": {},
   "source": [
    "# #1"
   ]
  },
  {
   "cell_type": "markdown",
   "metadata": {},
   "source": [
    "### a.)"
   ]
  },
  {
   "cell_type": "code",
   "execution_count": 5,
   "metadata": {
    "collapsed": false
   },
   "outputs": [
    {
     "data": {
      "text/html": [
       "<div>\n",
       "<table border=\"1\" class=\"dataframe\">\n",
       "  <thead>\n",
       "    <tr style=\"text-align: right;\">\n",
       "      <th></th>\n",
       "      <th>R</th>\n",
       "      <th>Age</th>\n",
       "      <th>Ed</th>\n",
       "      <th>Ex0</th>\n",
       "      <th>Ex1</th>\n",
       "      <th>LF</th>\n",
       "      <th>M</th>\n",
       "      <th>N</th>\n",
       "      <th>U1</th>\n",
       "      <th>U2</th>\n",
       "      <th>W</th>\n",
       "      <th>X</th>\n",
       "    </tr>\n",
       "  </thead>\n",
       "  <tbody>\n",
       "    <tr>\n",
       "      <th>0</th>\n",
       "      <td>79.1</td>\n",
       "      <td>151</td>\n",
       "      <td>91</td>\n",
       "      <td>58</td>\n",
       "      <td>56</td>\n",
       "      <td>510</td>\n",
       "      <td>950</td>\n",
       "      <td>33</td>\n",
       "      <td>108</td>\n",
       "      <td>41</td>\n",
       "      <td>394</td>\n",
       "      <td>261</td>\n",
       "    </tr>\n",
       "    <tr>\n",
       "      <th>1</th>\n",
       "      <td>163.5</td>\n",
       "      <td>143</td>\n",
       "      <td>113</td>\n",
       "      <td>103</td>\n",
       "      <td>95</td>\n",
       "      <td>583</td>\n",
       "      <td>1012</td>\n",
       "      <td>13</td>\n",
       "      <td>96</td>\n",
       "      <td>36</td>\n",
       "      <td>557</td>\n",
       "      <td>194</td>\n",
       "    </tr>\n",
       "    <tr>\n",
       "      <th>2</th>\n",
       "      <td>57.8</td>\n",
       "      <td>142</td>\n",
       "      <td>89</td>\n",
       "      <td>45</td>\n",
       "      <td>44</td>\n",
       "      <td>533</td>\n",
       "      <td>969</td>\n",
       "      <td>18</td>\n",
       "      <td>94</td>\n",
       "      <td>33</td>\n",
       "      <td>318</td>\n",
       "      <td>250</td>\n",
       "    </tr>\n",
       "    <tr>\n",
       "      <th>3</th>\n",
       "      <td>196.9</td>\n",
       "      <td>136</td>\n",
       "      <td>121</td>\n",
       "      <td>149</td>\n",
       "      <td>141</td>\n",
       "      <td>577</td>\n",
       "      <td>994</td>\n",
       "      <td>157</td>\n",
       "      <td>102</td>\n",
       "      <td>39</td>\n",
       "      <td>673</td>\n",
       "      <td>167</td>\n",
       "    </tr>\n",
       "    <tr>\n",
       "      <th>4</th>\n",
       "      <td>123.4</td>\n",
       "      <td>141</td>\n",
       "      <td>121</td>\n",
       "      <td>109</td>\n",
       "      <td>101</td>\n",
       "      <td>591</td>\n",
       "      <td>985</td>\n",
       "      <td>18</td>\n",
       "      <td>91</td>\n",
       "      <td>20</td>\n",
       "      <td>578</td>\n",
       "      <td>174</td>\n",
       "    </tr>\n",
       "  </tbody>\n",
       "</table>\n",
       "</div>"
      ],
      "text/plain": [
       "       R  Age   Ed  Ex0  Ex1   LF     M    N   U1  U2    W    X\n",
       "0   79.1  151   91   58   56  510   950   33  108  41  394  261\n",
       "1  163.5  143  113  103   95  583  1012   13   96  36  557  194\n",
       "2   57.8  142   89   45   44  533   969   18   94  33  318  250\n",
       "3  196.9  136  121  149  141  577   994  157  102  39  673  167\n",
       "4  123.4  141  121  109  101  591   985   18   91  20  578  174"
      ]
     },
     "execution_count": 5,
     "metadata": {},
     "output_type": "execute_result"
    }
   ],
   "source": [
    "df = pd.read_csv('uscrime.csv')\n",
    "df.head()"
   ]
  },
  {
   "cell_type": "markdown",
   "metadata": {},
   "source": [
    "### b.)"
   ]
  },
  {
   "cell_type": "code",
   "execution_count": 6,
   "metadata": {
    "collapsed": false,
    "scrolled": true
   },
   "outputs": [
    {
     "data": {
      "text/html": [
       "<div>\n",
       "<table border=\"1\" class=\"dataframe\">\n",
       "  <thead>\n",
       "    <tr style=\"text-align: right;\">\n",
       "      <th></th>\n",
       "      <th>R</th>\n",
       "      <th>Age</th>\n",
       "      <th>Ed</th>\n",
       "      <th>Ex0</th>\n",
       "      <th>Ex1</th>\n",
       "      <th>LF</th>\n",
       "      <th>M</th>\n",
       "      <th>N</th>\n",
       "      <th>U1</th>\n",
       "      <th>U2</th>\n",
       "      <th>W</th>\n",
       "      <th>X</th>\n",
       "    </tr>\n",
       "  </thead>\n",
       "  <tbody>\n",
       "    <tr>\n",
       "      <th>mean</th>\n",
       "      <td>2.102337e-16</td>\n",
       "      <td>-4.629866e-16</td>\n",
       "      <td>-4.866084e-16</td>\n",
       "      <td>-1.535415e-17</td>\n",
       "      <td>1.251954e-16</td>\n",
       "      <td>4.251918e-16</td>\n",
       "      <td>5.007814e-16</td>\n",
       "      <td>1.417306e-17</td>\n",
       "      <td>3.850348e-16</td>\n",
       "      <td>-2.598394e-17</td>\n",
       "      <td>3.425156e-16</td>\n",
       "      <td>-9.448707e-18</td>\n",
       "    </tr>\n",
       "    <tr>\n",
       "      <th>std</th>\n",
       "      <td>1.010811e+00</td>\n",
       "      <td>1.010811e+00</td>\n",
       "      <td>1.010811e+00</td>\n",
       "      <td>1.010811e+00</td>\n",
       "      <td>1.010811e+00</td>\n",
       "      <td>1.010811e+00</td>\n",
       "      <td>1.010811e+00</td>\n",
       "      <td>1.010811e+00</td>\n",
       "      <td>1.010811e+00</td>\n",
       "      <td>1.010811e+00</td>\n",
       "      <td>1.010811e+00</td>\n",
       "      <td>1.010811e+00</td>\n",
       "    </tr>\n",
       "  </tbody>\n",
       "</table>\n",
       "</div>"
      ],
      "text/plain": [
       "                 R           Age            Ed           Ex0           Ex1  \\\n",
       "mean  2.102337e-16 -4.629866e-16 -4.866084e-16 -1.535415e-17  1.251954e-16   \n",
       "std   1.010811e+00  1.010811e+00  1.010811e+00  1.010811e+00  1.010811e+00   \n",
       "\n",
       "                LF             M             N            U1            U2  \\\n",
       "mean  4.251918e-16  5.007814e-16  1.417306e-17  3.850348e-16 -2.598394e-17   \n",
       "std   1.010811e+00  1.010811e+00  1.010811e+00  1.010811e+00  1.010811e+00   \n",
       "\n",
       "                 W             X  \n",
       "mean  3.425156e-16 -9.448707e-18  \n",
       "std   1.010811e+00  1.010811e+00  "
      ]
     },
     "execution_count": 6,
     "metadata": {},
     "output_type": "execute_result"
    }
   ],
   "source": [
    "#NORMALIZE\n",
    "\n",
    "dfnorm = df.copy()\n",
    "dfnorm.ix[:,:12] = skp.scale(\n",
    "    df.ix[:,:12].astype(np.float))\n",
    "dfnorm.describe().ix[['mean','std']]"
   ]
  },
  {
   "cell_type": "markdown",
   "metadata": {},
   "source": [
    "### b.)"
   ]
  },
  {
   "cell_type": "code",
   "execution_count": 18,
   "metadata": {
    "collapsed": false
   },
   "outputs": [
    {
     "data": {
      "text/plain": [
       "(12, 12)"
      ]
     },
     "execution_count": 18,
     "metadata": {},
     "output_type": "execute_result"
    }
   ],
   "source": [
    "#b-1.)\n",
    "# Create a PCA model\n",
    "pca_model = skd.PCA().fit(dfnorm.ix[:,:12])\n",
    "\n",
    "pca_model.components_.shape"
   ]
  },
  {
   "cell_type": "code",
   "execution_count": 19,
   "metadata": {
    "collapsed": false
   },
   "outputs": [
    {
     "data": {
      "text/plain": [
       "array([ 4.96973481,  2.33180137,  1.83004456,  1.21307784,  0.60383795,\n",
       "        0.31920199,  0.2449876 ,  0.22096815,  0.12832731,  0.07693884,\n",
       "        0.0559042 ,  0.00517538])"
      ]
     },
     "execution_count": 19,
     "metadata": {},
     "output_type": "execute_result"
    }
   ],
   "source": [
    "# Look at the variances explained by each component.\n",
    "# These values equal to the eigenvalues of the correlation matrix.\n",
    "pca_model.explained_variance_"
   ]
  },
  {
   "cell_type": "code",
   "execution_count": 22,
   "metadata": {
    "collapsed": false
   },
   "outputs": [
    {
     "data": {
      "text/plain": [
       "[<matplotlib.lines.Line2D at 0xabe048>]"
      ]
     },
     "execution_count": 22,
     "metadata": {},
     "output_type": "execute_result"
    },
    {
     "data": {
      "image/png": "[encoded data removed]",
      "text/plain": [
       "<matplotlib.figure.Figure at 0xa28fd0>"
      ]
     },
     "metadata": {},
     "output_type": "display_data"
    }
   ],
   "source": [
    "# A \"scree\" plot.\n",
    "plt.plot(range(1,13), pca_model.explained_variance_, 'b-o')"
   ]
  },
  {
   "cell_type": "code",
   "execution_count": 24,
   "metadata": {
    "collapsed": false
   },
   "outputs": [
    {
     "data": {
      "image/png": "[encoded data removed]",
      "text/plain": [
       "<matplotlib.figure.Figure at 0xae6c50>"
      ]
     },
     "metadata": {},
     "output_type": "display_data"
    }
   ],
   "source": [
    "# Scatterplot of disaggregated data\n",
    "X = pca_model.transform(dfnorm.ix[:,:12])\n",
    "plt.figure(figsize=(8,6))\n",
    "plt.scatter(X[:,0], X[:,1])\n",
    "plt.xlabel('PC1')\n",
    "plt.ylabel('PC2')\n",
    "plt.title('PCA biplot')\n",
    "plt.ylim(-4, 6)\n",
    "\n",
    "# Add variable unit vector projections\n",
    "V = pca_model.transform(np.identity(X.shape[1]))\n",
    "for i, v in enumerate(V):\n",
    "    plt.annotate(dfnorm.columns[i], \n",
    "                 xy=(0,0), xytext=v[:2]*10, \n",
    "                 fontsize=13, color='orange',\n",
    "                 arrowprops=dict(\n",
    "                    arrowstyle='<-', linewidth=2, color='orange'))"
   ]
  },
  {
   "cell_type": "markdown",
   "metadata": {},
   "source": [
    "### ISOMAP"
   ]
  },
  {
   "cell_type": "code",
   "execution_count": 38,
   "metadata": {
    "collapsed": false
   },
   "outputs": [
    {
     "data": {
      "text/plain": [
       "<matplotlib.text.Text at 0xcdced30>"
      ]
     },
     "execution_count": 38,
     "metadata": {},
     "output_type": "execute_result"
    },
    {
     "data": {
      "image/png": "[encoded data removed]",
      "text/plain": [
       "<matplotlib.figure.Figure at 0xcdce470>"
      ]
     },
     "metadata": {},
     "output_type": "display_data"
    }
   ],
   "source": [
    "# Isomap\n",
    "X = skm.Isomap().fit_transform(dfnorm.ix[:,:12])\n",
    "df_X = pd.DataFrame(X, columns=['x','y'])\n",
    "g = sns.lmplot(x='x',y='y', data=df_X, \n",
    "                fit_reg=False)\n",
    "g.fig.suptitle('Isomap', fontsize=15)"
   ]
  },
  {
   "cell_type": "markdown",
   "metadata": {},
   "source": [
    "### MD5"
   ]
  },
  {
   "cell_type": "code",
   "execution_count": 161,
   "metadata": {
    "collapsed": false
   },
   "outputs": [
    {
     "data": {
      "text/plain": [
       "<matplotlib.text.Text at 0xcdce6a0>"
      ]
     },
     "execution_count": 161,
     "metadata": {},
     "output_type": "execute_result"
    },
    {
     "data": {
      "image/png": "[encoded data removed]",
      "text/plain": [
       "<matplotlib.figure.Figure at 0xed49048>"
      ]
     },
     "metadata": {},
     "output_type": "display_data"
    }
   ],
   "source": [
    "# MDS\n",
    "X = skm.MDS().fit_transform(dfnorm.ix[:,:4])\n",
    "df_X = pd.DataFrame(X, columns=['x','y'])\n",
    "g = sns.lmplot(x='x',y='y', data=df_X, \n",
    "                fit_reg=False)\n",
    "g.fig.suptitle('MDS', fontsize=15)"
   ]
  },
  {
   "cell_type": "markdown",
   "metadata": {},
   "source": [
    "### T-SNE"
   ]
  },
  {
   "cell_type": "code",
   "execution_count": 162,
   "metadata": {
    "collapsed": false
   },
   "outputs": [
    {
     "data": {
      "text/plain": [
       "<matplotlib.text.Text at 0xed0a2e8>"
      ]
     },
     "execution_count": 162,
     "metadata": {},
     "output_type": "execute_result"
    },
    {
     "data": {
      "image/png": "[encoded data removed]",
      "text/plain": [
       "<matplotlib.figure.Figure at 0xed0a048>"
      ]
     },
     "metadata": {},
     "output_type": "display_data"
    }
   ],
   "source": [
    "# t-SNE\n",
    "X = skm.TSNE(learning_rate=100).fit_transform(dfnorm.ix[:,:4])\n",
    "df_X = pd.DataFrame(X, columns=['x','y'])\n",
    "g = sns.lmplot(x='x',y='y', data=df_X, \n",
    "                fit_reg=False)\n",
    "g.fig.suptitle('t-SNE', fontsize=15)"
   ]
  },
  {
   "cell_type": "markdown",
   "metadata": {},
   "source": [
    "# c.)"
   ]
  },
  {
   "cell_type": "markdown",
   "metadata": {},
   "source": [
    "c-1\n",
    "\n",
    "12 Principle Components\n"
   ]
  },
  {
   "cell_type": "markdown",
   "metadata": {},
   "source": [
    "c-2"
   ]
  },
  {
   "cell_type": "code",
   "execution_count": 39,
   "metadata": {
    "collapsed": false
   },
   "outputs": [
    {
     "data": {
      "text/plain": [
       "array([ 4.96973481,  2.33180137,  1.83004456,  1.21307784,  0.60383795,\n",
       "        0.31920199,  0.2449876 ,  0.22096815,  0.12832731,  0.07693884,\n",
       "        0.0559042 ,  0.00517538])"
      ]
     },
     "execution_count": 39,
     "metadata": {},
     "output_type": "execute_result"
    }
   ],
   "source": [
    "# Look at the variances explained by each component.\n",
    "# These values equal to the eigenvalues of the correlation matrix.\n",
    "pca_model.explained_variance_"
   ]
  },
  {
   "cell_type": "markdown",
   "metadata": {},
   "source": [
    "c-3"
   ]
  },
  {
   "cell_type": "code",
   "execution_count": 163,
   "metadata": {
    "collapsed": false
   },
   "outputs": [
    {
     "data": {
      "text/plain": [
       "4"
      ]
     },
     "execution_count": 163,
     "metadata": {},
     "output_type": "execute_result"
    }
   ],
   "source": [
    "yolo = (pca_model.explained_variance_ > 1).sum()\n",
    "yolo"
   ]
  },
  {
   "cell_type": "markdown",
   "metadata": {},
   "source": [
    "c-4"
   ]
  },
  {
   "cell_type": "code",
   "execution_count": 69,
   "metadata": {
    "collapsed": false
   },
   "outputs": [
    {
     "data": {
      "text/html": [
       "<div>\n",
       "<table border=\"1\" class=\"dataframe\">\n",
       "  <thead>\n",
       "    <tr style=\"text-align: right;\">\n",
       "      <th></th>\n",
       "      <th>PC1</th>\n",
       "      <th>PC2</th>\n",
       "      <th>PC3</th>\n",
       "      <th>PC4</th>\n",
       "    </tr>\n",
       "  </thead>\n",
       "  <tbody>\n",
       "    <tr>\n",
       "      <th>R</th>\n",
       "      <td>0.266860</td>\n",
       "      <td>0.086739</td>\n",
       "      <td>-0.116822</td>\n",
       "      <td>0.646893</td>\n",
       "    </tr>\n",
       "    <tr>\n",
       "      <th>Age</th>\n",
       "      <td>-0.311629</td>\n",
       "      <td>-0.071419</td>\n",
       "      <td>-0.160223</td>\n",
       "      <td>0.439389</td>\n",
       "    </tr>\n",
       "    <tr>\n",
       "      <th>Ed</th>\n",
       "      <td>0.342421</td>\n",
       "      <td>-0.324221</td>\n",
       "      <td>0.109941</td>\n",
       "      <td>-0.102357</td>\n",
       "    </tr>\n",
       "    <tr>\n",
       "      <th>Ex0</th>\n",
       "      <td>0.403934</td>\n",
       "      <td>0.156912</td>\n",
       "      <td>-0.152719</td>\n",
       "      <td>0.157916</td>\n",
       "    </tr>\n",
       "    <tr>\n",
       "      <th>Ex1</th>\n",
       "      <td>0.404971</td>\n",
       "      <td>0.151668</td>\n",
       "      <td>-0.156180</td>\n",
       "      <td>0.129160</td>\n",
       "    </tr>\n",
       "    <tr>\n",
       "      <th>LF</th>\n",
       "      <td>0.152985</td>\n",
       "      <td>-0.489833</td>\n",
       "      <td>-0.002056</td>\n",
       "      <td>0.162141</td>\n",
       "    </tr>\n",
       "    <tr>\n",
       "      <th>M</th>\n",
       "      <td>0.097777</td>\n",
       "      <td>-0.355583</td>\n",
       "      <td>0.453042</td>\n",
       "      <td>0.390083</td>\n",
       "    </tr>\n",
       "    <tr>\n",
       "      <th>N</th>\n",
       "      <td>0.182596</td>\n",
       "      <td>0.391949</td>\n",
       "      <td>-0.288349</td>\n",
       "      <td>0.028383</td>\n",
       "    </tr>\n",
       "    <tr>\n",
       "      <th>U1</th>\n",
       "      <td>0.025708</td>\n",
       "      <td>0.241646</td>\n",
       "      <td>0.657893</td>\n",
       "      <td>0.025006</td>\n",
       "    </tr>\n",
       "    <tr>\n",
       "      <th>U2</th>\n",
       "      <td>0.057531</td>\n",
       "      <td>0.492167</td>\n",
       "      <td>0.416887</td>\n",
       "      <td>0.109818</td>\n",
       "    </tr>\n",
       "    <tr>\n",
       "      <th>W</th>\n",
       "      <td>0.421565</td>\n",
       "      <td>-0.030623</td>\n",
       "      <td>0.020902</td>\n",
       "      <td>-0.143578</td>\n",
       "    </tr>\n",
       "    <tr>\n",
       "      <th>X</th>\n",
       "      <td>-0.373180</td>\n",
       "      <td>0.114335</td>\n",
       "      <td>-0.073677</td>\n",
       "      <td>0.351867</td>\n",
       "    </tr>\n",
       "  </tbody>\n",
       "</table>\n",
       "</div>"
      ],
      "text/plain": [
       "          PC1       PC2       PC3       PC4\n",
       "R    0.266860  0.086739 -0.116822  0.646893\n",
       "Age -0.311629 -0.071419 -0.160223  0.439389\n",
       "Ed   0.342421 -0.324221  0.109941 -0.102357\n",
       "Ex0  0.403934  0.156912 -0.152719  0.157916\n",
       "Ex1  0.404971  0.151668 -0.156180  0.129160\n",
       "LF   0.152985 -0.489833 -0.002056  0.162141\n",
       "M    0.097777 -0.355583  0.453042  0.390083\n",
       "N    0.182596  0.391949 -0.288349  0.028383\n",
       "U1   0.025708  0.241646  0.657893  0.025006\n",
       "U2   0.057531  0.492167  0.416887  0.109818\n",
       "W    0.421565 -0.030623  0.020902 -0.143578\n",
       "X   -0.373180  0.114335 -0.073677  0.351867"
      ]
     },
     "execution_count": 69,
     "metadata": {},
     "output_type": "execute_result"
    }
   ],
   "source": [
    "pca_model = skd.PCA(n_components=4).fit(dfnorm.ix[:,:12])\n",
    "\n",
    "# Show the loadings\n",
    "pd.DataFrame(pca_model.components_[:4,:].T, \n",
    "             index=dfnorm.columns,\n",
    "             columns=['PC1', 'PC2', 'PC3', 'PC4'])"
   ]
  },
  {
   "cell_type": "markdown",
   "metadata": {},
   "source": [
    "# d.)"
   ]
  },
  {
   "cell_type": "markdown",
   "metadata": {},
   "source": [
    "d-1"
   ]
  },
  {
   "cell_type": "code",
   "execution_count": 71,
   "metadata": {
    "collapsed": false
   },
   "outputs": [
    {
     "data": {
      "text/plain": [
       "[<matplotlib.lines.Line2D at 0xdfc3a58>]"
      ]
     },
     "execution_count": 71,
     "metadata": {},
     "output_type": "execute_result"
    },
    {
     "data": {
      "image/png": "[encoded data removed]",
      "text/plain": [
       "<matplotlib.figure.Figure at 0x5830c88>"
      ]
     },
     "metadata": {},
     "output_type": "display_data"
    }
   ],
   "source": [
    "# A \"scree\" plot.\n",
    "#b-1.)\n",
    "# Create a PCA model\n",
    "pca_model = skd.PCA().fit(dfnorm.ix[:,:12])\n",
    "plt.plot(range(1,13), pca_model.explained_variance_, 'b-o')"
   ]
  },
  {
   "cell_type": "markdown",
   "metadata": {},
   "source": [
    "Scree plots tell us the optimal number of clusters to have. Locate the elbow to retrieve the best number for k."
   ]
  },
  {
   "cell_type": "markdown",
   "metadata": {},
   "source": [
    "d-2"
   ]
  },
  {
   "cell_type": "markdown",
   "metadata": {},
   "source": [
    "There are lots of factors/clusters involved in this dataset, but only 4-6 are principal components that are highly correlated/optimized."
   ]
  },
  {
   "cell_type": "markdown",
   "metadata": {},
   "source": [
    "# e.)"
   ]
  },
  {
   "cell_type": "markdown",
   "metadata": {},
   "source": [
    "e-1"
   ]
  },
  {
   "cell_type": "code",
   "execution_count": 93,
   "metadata": {
    "collapsed": false
   },
   "outputs": [
    {
     "data": {
      "image/png": "[encoded data removed]",
      "text/plain": [
       "<matplotlib.figure.Figure at 0xeb90fd0>"
      ]
     },
     "metadata": {},
     "output_type": "display_data"
    }
   ],
   "source": [
    "sns.lmplot(x='Ex0', y='Ex1', data=dfnorm);"
   ]
  },
  {
   "cell_type": "code",
   "execution_count": 92,
   "metadata": {
    "collapsed": false
   },
   "outputs": [
    {
     "data": {
      "text/plain": [
       "(0.99358648319788678, 2.9995121250143015e-44)"
      ]
     },
     "execution_count": 92,
     "metadata": {},
     "output_type": "execute_result"
    }
   ],
   "source": [
    "from scipy.stats.stats import pearsonr\n",
    "pearsonr(dfnorm.Ex0,dfnorm.Ex1)"
   ]
  },
  {
   "cell_type": "markdown",
   "metadata": {},
   "source": [
    "There is an incredibly strong positive correlation between Ex0 and Ex1. These variables represent per capita police expenditures for two 1959 and 1960."
   ]
  },
  {
   "cell_type": "markdown",
   "metadata": {},
   "source": [
    "e-2"
   ]
  },
  {
   "cell_type": "code",
   "execution_count": 94,
   "metadata": {
    "collapsed": false
   },
   "outputs": [
    {
     "data": {
      "image/png": "[encoded data removed]",
      "text/plain": [
       "<matplotlib.figure.Figure at 0xecf9e10>"
      ]
     },
     "metadata": {},
     "output_type": "display_data"
    }
   ],
   "source": [
    "sns.lmplot(x='W', y='Age', data=dfnorm);"
   ]
  },
  {
   "cell_type": "code",
   "execution_count": 95,
   "metadata": {
    "collapsed": false
   },
   "outputs": [
    {
     "data": {
      "text/plain": [
       "(-0.67005505578595215, 2.5851081034102942e-07)"
      ]
     },
     "execution_count": 95,
     "metadata": {},
     "output_type": "execute_result"
    }
   ],
   "source": [
    "pearsonr(dfnorm.W,dfnorm.Age)"
   ]
  },
  {
   "cell_type": "markdown",
   "metadata": {},
   "source": [
    "There is a moderately strong negative correlation between medium assets/income and age."
   ]
  },
  {
   "cell_type": "markdown",
   "metadata": {},
   "source": [
    "# #2"
   ]
  },
  {
   "cell_type": "markdown",
   "metadata": {},
   "source": [
    "### a.)"
   ]
  },
  {
   "cell_type": "code",
   "execution_count": 164,
   "metadata": {
    "collapsed": false
   },
   "outputs": [
    {
     "data": {
      "text/html": [
       "<div>\n",
       "<table border=\"1\" class=\"dataframe\">\n",
       "  <thead>\n",
       "    <tr style=\"text-align: right;\">\n",
       "      <th></th>\n",
       "      <th>q1</th>\n",
       "      <th>q2</th>\n",
       "      <th>q3</th>\n",
       "      <th>q4</th>\n",
       "      <th>q5</th>\n",
       "      <th>q6</th>\n",
       "      <th>q7</th>\n",
       "      <th>q8</th>\n",
       "      <th>q9</th>\n",
       "      <th>q10</th>\n",
       "      <th>q11</th>\n",
       "    </tr>\n",
       "  </thead>\n",
       "  <tbody>\n",
       "    <tr>\n",
       "      <th>0</th>\n",
       "      <td>CONSIDERABLE EXTENT</td>\n",
       "      <td>CONSIDERABLE EXTENT</td>\n",
       "      <td>MODERATE EXTENT</td>\n",
       "      <td>MODERATE EXTENT</td>\n",
       "      <td>MODERATE EXTENT</td>\n",
       "      <td>SOME EXTENT</td>\n",
       "      <td>CONSIDERABLE EXTENT</td>\n",
       "      <td>SOME EXTENT</td>\n",
       "      <td>CONSIDERABLE EXTENT</td>\n",
       "      <td>MODERATE EXTENT</td>\n",
       "      <td>CONSIDERABLE EXTENT</td>\n",
       "    </tr>\n",
       "    <tr>\n",
       "      <th>1</th>\n",
       "      <td>GREAT EXTENT</td>\n",
       "      <td>MODERATE EXTENT</td>\n",
       "      <td>CONSIDERABLE EXTENT</td>\n",
       "      <td>GREAT EXTENT</td>\n",
       "      <td>CONSIDERABLE EXTENT</td>\n",
       "      <td>GREAT EXTENT</td>\n",
       "      <td>CONSIDERABLE EXTENT</td>\n",
       "      <td>GREAT EXTENT</td>\n",
       "      <td>GREAT EXTENT</td>\n",
       "      <td>GREAT EXTENT</td>\n",
       "      <td>CONSIDERABLE EXTENT</td>\n",
       "    </tr>\n",
       "    <tr>\n",
       "      <th>2</th>\n",
       "      <td>CONSIDERABLE EXTENT</td>\n",
       "      <td>GREAT EXTENT</td>\n",
       "      <td>GREAT EXTENT</td>\n",
       "      <td>TO A VERY GREAT EXTENT</td>\n",
       "      <td>TO A VERY GREAT EXTENT</td>\n",
       "      <td>TO A VERY GREAT EXTENT</td>\n",
       "      <td>GREAT EXTENT</td>\n",
       "      <td>GREAT EXTENT</td>\n",
       "      <td>CONSIDERABLE EXTENT</td>\n",
       "      <td>CONSIDERABLE EXTENT</td>\n",
       "      <td>GREAT EXTENT</td>\n",
       "    </tr>\n",
       "    <tr>\n",
       "      <th>3</th>\n",
       "      <td>CONSIDERABLE EXTENT</td>\n",
       "      <td>CONSIDERABLE EXTENT</td>\n",
       "      <td>CONSIDERABLE EXTENT</td>\n",
       "      <td>CONSIDERABLE EXTENT</td>\n",
       "      <td>CONSIDERABLE EXTENT</td>\n",
       "      <td>MODERATE EXTENT</td>\n",
       "      <td>MODERATE EXTENT</td>\n",
       "      <td>MODERATE EXTENT</td>\n",
       "      <td>CONSIDERABLE EXTENT</td>\n",
       "      <td>CONSIDERABLE EXTENT</td>\n",
       "      <td>CONSIDERABLE EXTENT</td>\n",
       "    </tr>\n",
       "    <tr>\n",
       "      <th>4</th>\n",
       "      <td>CONSIDERABLE EXTENT</td>\n",
       "      <td>CONSIDERABLE EXTENT</td>\n",
       "      <td>CONSIDERABLE EXTENT</td>\n",
       "      <td>GREAT EXTENT</td>\n",
       "      <td>CONSIDERABLE EXTENT</td>\n",
       "      <td>MODERATE EXTENT</td>\n",
       "      <td>MODERATE EXTENT</td>\n",
       "      <td>MODERATE EXTENT</td>\n",
       "      <td>SOME EXTENT</td>\n",
       "      <td>MODERATE EXTENT</td>\n",
       "      <td>SOME EXTENT</td>\n",
       "    </tr>\n",
       "  </tbody>\n",
       "</table>\n",
       "</div>"
      ],
      "text/plain": [
       "                    q1                   q2                   q3  \\\n",
       "0  CONSIDERABLE EXTENT  CONSIDERABLE EXTENT      MODERATE EXTENT   \n",
       "1         GREAT EXTENT      MODERATE EXTENT  CONSIDERABLE EXTENT   \n",
       "2  CONSIDERABLE EXTENT         GREAT EXTENT         GREAT EXTENT   \n",
       "3  CONSIDERABLE EXTENT  CONSIDERABLE EXTENT  CONSIDERABLE EXTENT   \n",
       "4  CONSIDERABLE EXTENT  CONSIDERABLE EXTENT  CONSIDERABLE EXTENT   \n",
       "\n",
       "                       q4                      q5                      q6  \\\n",
       "0         MODERATE EXTENT         MODERATE EXTENT             SOME EXTENT   \n",
       "1            GREAT EXTENT     CONSIDERABLE EXTENT            GREAT EXTENT   \n",
       "2  TO A VERY GREAT EXTENT  TO A VERY GREAT EXTENT  TO A VERY GREAT EXTENT   \n",
       "3     CONSIDERABLE EXTENT     CONSIDERABLE EXTENT         MODERATE EXTENT   \n",
       "4            GREAT EXTENT     CONSIDERABLE EXTENT         MODERATE EXTENT   \n",
       "\n",
       "                    q7               q8                   q9  \\\n",
       "0  CONSIDERABLE EXTENT      SOME EXTENT  CONSIDERABLE EXTENT   \n",
       "1  CONSIDERABLE EXTENT     GREAT EXTENT         GREAT EXTENT   \n",
       "2         GREAT EXTENT     GREAT EXTENT  CONSIDERABLE EXTENT   \n",
       "3      MODERATE EXTENT  MODERATE EXTENT  CONSIDERABLE EXTENT   \n",
       "4      MODERATE EXTENT  MODERATE EXTENT          SOME EXTENT   \n",
       "\n",
       "                   q10                  q11  \n",
       "0      MODERATE EXTENT  CONSIDERABLE EXTENT  \n",
       "1         GREAT EXTENT  CONSIDERABLE EXTENT  \n",
       "2  CONSIDERABLE EXTENT         GREAT EXTENT  \n",
       "3  CONSIDERABLE EXTENT  CONSIDERABLE EXTENT  \n",
       "4      MODERATE EXTENT          SOME EXTENT  "
      ]
     },
     "execution_count": 164,
     "metadata": {},
     "output_type": "execute_result"
    }
   ],
   "source": [
    "dfmanageit = pd.read_csv('manage.csv')\n",
    "dfmanageit.head()"
   ]
  },
  {
   "cell_type": "markdown",
   "metadata": {},
   "source": [
    "### b.)"
   ]
  },
  {
   "cell_type": "code",
   "execution_count": 201,
   "metadata": {
    "collapsed": false
   },
   "outputs": [
    {
     "data": {
      "text/html": [
       "<div>\n",
       "<table border=\"1\" class=\"dataframe\">\n",
       "  <thead>\n",
       "    <tr style=\"text-align: right;\">\n",
       "      <th></th>\n",
       "      <th>q1</th>\n",
       "      <th>q2</th>\n",
       "      <th>q3</th>\n",
       "      <th>q4</th>\n",
       "      <th>q5</th>\n",
       "      <th>q6</th>\n",
       "      <th>q7</th>\n",
       "      <th>q8</th>\n",
       "      <th>q9</th>\n",
       "      <th>q10</th>\n",
       "      <th>q11</th>\n",
       "    </tr>\n",
       "  </thead>\n",
       "  <tbody>\n",
       "    <tr>\n",
       "      <th>0</th>\n",
       "      <td>5</td>\n",
       "      <td>5</td>\n",
       "      <td>4</td>\n",
       "      <td>4</td>\n",
       "      <td>4</td>\n",
       "      <td>3</td>\n",
       "      <td>5</td>\n",
       "      <td>3</td>\n",
       "      <td>5</td>\n",
       "      <td>4</td>\n",
       "      <td>5</td>\n",
       "    </tr>\n",
       "    <tr>\n",
       "      <th>1</th>\n",
       "      <td>6</td>\n",
       "      <td>4</td>\n",
       "      <td>5</td>\n",
       "      <td>6</td>\n",
       "      <td>5</td>\n",
       "      <td>6</td>\n",
       "      <td>5</td>\n",
       "      <td>6</td>\n",
       "      <td>6</td>\n",
       "      <td>6</td>\n",
       "      <td>5</td>\n",
       "    </tr>\n",
       "    <tr>\n",
       "      <th>2</th>\n",
       "      <td>5</td>\n",
       "      <td>6</td>\n",
       "      <td>6</td>\n",
       "      <td>7</td>\n",
       "      <td>7</td>\n",
       "      <td>7</td>\n",
       "      <td>6</td>\n",
       "      <td>6</td>\n",
       "      <td>5</td>\n",
       "      <td>5</td>\n",
       "      <td>6</td>\n",
       "    </tr>\n",
       "    <tr>\n",
       "      <th>3</th>\n",
       "      <td>5</td>\n",
       "      <td>5</td>\n",
       "      <td>5</td>\n",
       "      <td>5</td>\n",
       "      <td>5</td>\n",
       "      <td>4</td>\n",
       "      <td>4</td>\n",
       "      <td>4</td>\n",
       "      <td>5</td>\n",
       "      <td>5</td>\n",
       "      <td>5</td>\n",
       "    </tr>\n",
       "    <tr>\n",
       "      <th>4</th>\n",
       "      <td>5</td>\n",
       "      <td>5</td>\n",
       "      <td>5</td>\n",
       "      <td>6</td>\n",
       "      <td>5</td>\n",
       "      <td>4</td>\n",
       "      <td>4</td>\n",
       "      <td>4</td>\n",
       "      <td>3</td>\n",
       "      <td>4</td>\n",
       "      <td>3</td>\n",
       "    </tr>\n",
       "  </tbody>\n",
       "</table>\n",
       "</div>"
      ],
      "text/plain": [
       "   q1  q2  q3  q4  q5  q6  q7  q8  q9  q10  q11\n",
       "0   5   5   4   4   4   3   5   3   5    4    5\n",
       "1   6   4   5   6   5   6   5   6   6    6    5\n",
       "2   5   6   6   7   7   7   6   6   5    5    6\n",
       "3   5   5   5   5   5   4   4   4   5    5    5\n",
       "4   5   5   5   6   5   4   4   4   3    4    3"
      ]
     },
     "execution_count": 201,
     "metadata": {},
     "output_type": "execute_result"
    }
   ],
   "source": [
    "lookup_dict = {\n",
    "    'VERY LITTLE EXTENT': 1,\n",
    "    'LITTLE EXTENT': 2,\n",
    "    'SOME EXTENT': 3,\n",
    "    'MODERATE EXTENT': 4,\n",
    "    'CONSIDERABLE EXTENT': 5,\n",
    "    'GREAT EXTENT': 6,\n",
    "    'TO A VERY GREAT EXTENT': 7\n",
    "}\n",
    "\n",
    "dfmanage = dfmanageit.copy()\n",
    "\n",
    "for c in dfmanage.columns:\n",
    "    dfmanage[c] = dfmanage[c].apply(lambda x: lookup_dict[x])\n",
    "dfmanage.head()"
   ]
  },
  {
   "cell_type": "code",
   "execution_count": 202,
   "metadata": {
    "collapsed": false
   },
   "outputs": [],
   "source": [
    "#### Xin did an example. This is only saved for future reference. ps thnk you Xin!!!!!!!\n",
    "\n",
    "dfmanage_copy_xin = dfmanageit.copy()\n",
    "for rowIdx, row in dfmanageit.iterrows():\n",
    "    for colIdx, elem in enumerate(row):\n",
    "        dfmanage_copy_xin.ix[rowIdx,colIdx] = lookup_dict[elem]"
   ]
  },
  {
   "cell_type": "markdown",
   "metadata": {},
   "source": [
    "### c.)"
   ]
  },
  {
   "cell_type": "code",
   "execution_count": 203,
   "metadata": {
    "collapsed": false
   },
   "outputs": [
    {
     "data": {
      "text/html": [
       "<div>\n",
       "<table border=\"1\" class=\"dataframe\">\n",
       "  <thead>\n",
       "    <tr style=\"text-align: right;\">\n",
       "      <th></th>\n",
       "      <th>Factor1</th>\n",
       "    </tr>\n",
       "  </thead>\n",
       "  <tbody>\n",
       "    <tr>\n",
       "      <th>q1</th>\n",
       "      <td>0.496705</td>\n",
       "    </tr>\n",
       "    <tr>\n",
       "      <th>q2</th>\n",
       "      <td>0.690525</td>\n",
       "    </tr>\n",
       "    <tr>\n",
       "      <th>q3</th>\n",
       "      <td>0.619649</td>\n",
       "    </tr>\n",
       "    <tr>\n",
       "      <th>q4</th>\n",
       "      <td>0.652723</td>\n",
       "    </tr>\n",
       "    <tr>\n",
       "      <th>q5</th>\n",
       "      <td>0.568174</td>\n",
       "    </tr>\n",
       "    <tr>\n",
       "      <th>q6</th>\n",
       "      <td>0.800546</td>\n",
       "    </tr>\n",
       "    <tr>\n",
       "      <th>q7</th>\n",
       "      <td>0.851144</td>\n",
       "    </tr>\n",
       "    <tr>\n",
       "      <th>q8</th>\n",
       "      <td>0.683129</td>\n",
       "    </tr>\n",
       "    <tr>\n",
       "      <th>q9</th>\n",
       "      <td>0.591450</td>\n",
       "    </tr>\n",
       "    <tr>\n",
       "      <th>q10</th>\n",
       "      <td>0.675984</td>\n",
       "    </tr>\n",
       "    <tr>\n",
       "      <th>q11</th>\n",
       "      <td>0.525387</td>\n",
       "    </tr>\n",
       "  </tbody>\n",
       "</table>\n",
       "</div>"
      ],
      "text/plain": [
       "      Factor1\n",
       "q1   0.496705\n",
       "q2   0.690525\n",
       "q3   0.619649\n",
       "q4   0.652723\n",
       "q5   0.568174\n",
       "q6   0.800546\n",
       "q7   0.851144\n",
       "q8   0.683129\n",
       "q9   0.591450\n",
       "q10  0.675984\n",
       "q11  0.525387"
      ]
     },
     "execution_count": 203,
     "metadata": {},
     "output_type": "execute_result"
    }
   ],
   "source": [
    "# build a 2-factor model\n",
    "fa_model = skd.FactorAnalysis(n_components=1).fit(dfmanage)\n",
    "\n",
    "# Show the loadings\n",
    "pd.DataFrame(fa_model.components_[:1,:].T, \n",
    "             index=dfmanage.columns,\n",
    "             columns=['Factor1'])"
   ]
  },
  {
   "cell_type": "code",
   "execution_count": 204,
   "metadata": {
    "collapsed": false
   },
   "outputs": [
    {
     "data": {
      "text/html": [
       "<div>\n",
       "<table border=\"1\" class=\"dataframe\">\n",
       "  <thead>\n",
       "    <tr style=\"text-align: right;\">\n",
       "      <th></th>\n",
       "      <th>Factor1</th>\n",
       "      <th>Factor2</th>\n",
       "    </tr>\n",
       "  </thead>\n",
       "  <tbody>\n",
       "    <tr>\n",
       "      <th>q1</th>\n",
       "      <td>0.482880</td>\n",
       "      <td>-0.385668</td>\n",
       "    </tr>\n",
       "    <tr>\n",
       "      <th>q2</th>\n",
       "      <td>0.700832</td>\n",
       "      <td>-0.449409</td>\n",
       "    </tr>\n",
       "    <tr>\n",
       "      <th>q3</th>\n",
       "      <td>0.608596</td>\n",
       "      <td>-0.337814</td>\n",
       "    </tr>\n",
       "    <tr>\n",
       "      <th>q4</th>\n",
       "      <td>0.638492</td>\n",
       "      <td>-0.353686</td>\n",
       "    </tr>\n",
       "    <tr>\n",
       "      <th>q5</th>\n",
       "      <td>0.600315</td>\n",
       "      <td>0.178145</td>\n",
       "    </tr>\n",
       "    <tr>\n",
       "      <th>q6</th>\n",
       "      <td>0.882545</td>\n",
       "      <td>0.563022</td>\n",
       "    </tr>\n",
       "    <tr>\n",
       "      <th>q7</th>\n",
       "      <td>0.898772</td>\n",
       "      <td>0.318227</td>\n",
       "    </tr>\n",
       "    <tr>\n",
       "      <th>q8</th>\n",
       "      <td>0.761418</td>\n",
       "      <td>0.550336</td>\n",
       "    </tr>\n",
       "    <tr>\n",
       "      <th>q9</th>\n",
       "      <td>0.540986</td>\n",
       "      <td>-0.112421</td>\n",
       "    </tr>\n",
       "    <tr>\n",
       "      <th>q10</th>\n",
       "      <td>0.644295</td>\n",
       "      <td>-0.098667</td>\n",
       "    </tr>\n",
       "    <tr>\n",
       "      <th>q11</th>\n",
       "      <td>0.502895</td>\n",
       "      <td>0.054598</td>\n",
       "    </tr>\n",
       "  </tbody>\n",
       "</table>\n",
       "</div>"
      ],
      "text/plain": [
       "      Factor1   Factor2\n",
       "q1   0.482880 -0.385668\n",
       "q2   0.700832 -0.449409\n",
       "q3   0.608596 -0.337814\n",
       "q4   0.638492 -0.353686\n",
       "q5   0.600315  0.178145\n",
       "q6   0.882545  0.563022\n",
       "q7   0.898772  0.318227\n",
       "q8   0.761418  0.550336\n",
       "q9   0.540986 -0.112421\n",
       "q10  0.644295 -0.098667\n",
       "q11  0.502895  0.054598"
      ]
     },
     "execution_count": 204,
     "metadata": {},
     "output_type": "execute_result"
    }
   ],
   "source": [
    "# build a 2-factor model\n",
    "fa_model = skd.FactorAnalysis(n_components=2).fit(dfmanage)\n",
    "\n",
    "# Show the loadings\n",
    "pd.DataFrame(fa_model.components_[:2,:].T, \n",
    "             index=dfmanage.columns,\n",
    "             columns=['Factor1', 'Factor2'])"
   ]
  },
  {
   "cell_type": "code",
   "execution_count": 205,
   "metadata": {
    "collapsed": false
   },
   "outputs": [
    {
     "data": {
      "text/html": [
       "<div>\n",
       "<table border=\"1\" class=\"dataframe\">\n",
       "  <thead>\n",
       "    <tr style=\"text-align: right;\">\n",
       "      <th></th>\n",
       "      <th>Factor1</th>\n",
       "      <th>Factor2</th>\n",
       "      <th>Factor3</th>\n",
       "    </tr>\n",
       "  </thead>\n",
       "  <tbody>\n",
       "    <tr>\n",
       "      <th>q1</th>\n",
       "      <td>0.520269</td>\n",
       "      <td>-0.322068</td>\n",
       "      <td>0.087115</td>\n",
       "    </tr>\n",
       "    <tr>\n",
       "      <th>q2</th>\n",
       "      <td>0.761505</td>\n",
       "      <td>-0.409129</td>\n",
       "      <td>-0.163937</td>\n",
       "    </tr>\n",
       "    <tr>\n",
       "      <th>q3</th>\n",
       "      <td>0.637311</td>\n",
       "      <td>-0.267673</td>\n",
       "      <td>-0.022856</td>\n",
       "    </tr>\n",
       "    <tr>\n",
       "      <th>q4</th>\n",
       "      <td>0.663764</td>\n",
       "      <td>-0.263731</td>\n",
       "      <td>-0.045500</td>\n",
       "    </tr>\n",
       "    <tr>\n",
       "      <th>q5</th>\n",
       "      <td>0.570236</td>\n",
       "      <td>0.241547</td>\n",
       "      <td>-0.250002</td>\n",
       "    </tr>\n",
       "    <tr>\n",
       "      <th>q6</th>\n",
       "      <td>0.809820</td>\n",
       "      <td>0.648087</td>\n",
       "      <td>-0.119632</td>\n",
       "    </tr>\n",
       "    <tr>\n",
       "      <th>q7</th>\n",
       "      <td>0.853406</td>\n",
       "      <td>0.418560</td>\n",
       "      <td>-0.245228</td>\n",
       "    </tr>\n",
       "    <tr>\n",
       "      <th>q8</th>\n",
       "      <td>0.692235</td>\n",
       "      <td>0.626117</td>\n",
       "      <td>-0.047060</td>\n",
       "    </tr>\n",
       "    <tr>\n",
       "      <th>q9</th>\n",
       "      <td>0.587515</td>\n",
       "      <td>-0.017452</td>\n",
       "      <td>0.613462</td>\n",
       "    </tr>\n",
       "    <tr>\n",
       "      <th>q10</th>\n",
       "      <td>0.671758</td>\n",
       "      <td>-0.012623</td>\n",
       "      <td>0.331820</td>\n",
       "    </tr>\n",
       "    <tr>\n",
       "      <th>q11</th>\n",
       "      <td>0.512553</td>\n",
       "      <td>0.129197</td>\n",
       "      <td>0.293989</td>\n",
       "    </tr>\n",
       "  </tbody>\n",
       "</table>\n",
       "</div>"
      ],
      "text/plain": [
       "      Factor1   Factor2   Factor3\n",
       "q1   0.520269 -0.322068  0.087115\n",
       "q2   0.761505 -0.409129 -0.163937\n",
       "q3   0.637311 -0.267673 -0.022856\n",
       "q4   0.663764 -0.263731 -0.045500\n",
       "q5   0.570236  0.241547 -0.250002\n",
       "q6   0.809820  0.648087 -0.119632\n",
       "q7   0.853406  0.418560 -0.245228\n",
       "q8   0.692235  0.626117 -0.047060\n",
       "q9   0.587515 -0.017452  0.613462\n",
       "q10  0.671758 -0.012623  0.331820\n",
       "q11  0.512553  0.129197  0.293989"
      ]
     },
     "execution_count": 205,
     "metadata": {},
     "output_type": "execute_result"
    }
   ],
   "source": [
    "# build a 2-factor model\n",
    "fa_model = skd.FactorAnalysis(n_components=3).fit(dfmanage)\n",
    "\n",
    "# Show the loadings\n",
    "cmon = pd.DataFrame(fa_model.components_[:3,:].T, \n",
    "             index=dfmanage.columns,\n",
    "             columns=['Factor1', 'Factor2','Factor3'])\n",
    "\n",
    "cmon"
   ]
  },
  {
   "cell_type": "markdown",
   "metadata": {},
   "source": [
    "### d.) EXTRA CREDIT"
   ]
  },
  {
   "cell_type": "code",
   "execution_count": 206,
   "metadata": {
    "collapsed": false
   },
   "outputs": [
    {
     "data": {
      "text/plain": [
       "<seaborn.matrix.ClusterGrid at 0xfbca780>"
      ]
     },
     "execution_count": 206,
     "metadata": {},
     "output_type": "execute_result"
    },
    {
     "data": {
      "image/png": "[encoded data removed]",
      "text/plain": [
       "<matplotlib.figure.Figure at 0xf6818d0>"
      ]
     },
     "metadata": {},
     "output_type": "display_data"
    }
   ],
   "source": [
    "import seaborn as sns;\n",
    "sns.clustermap(cmon)"
   ]
  },
  {
   "cell_type": "markdown",
   "metadata": {
    "collapsed": true
   },
   "source": [
    "### e.)"
   ]
  },
  {
   "cell_type": "markdown",
   "metadata": {},
   "source": [
    "From the visualization, we can roughly identify the semantics of the factors:\n",
    "\n",
    "•Factor 1: Overall good worker. Does well in nearly every category defined by each question\n",
    "\n",
    "•Factor 2: Manage time efficiently. Set goals. Doesn't procrastinate.\n",
    "\n",
    "•Factor 3: Detail oriented and cool under pressure. Skilled with understanding complex systems\n"
   ]
  },
  {
   "cell_type": "code",
   "execution_count": null,
   "metadata": {
    "collapsed": true
   },
   "outputs": [],
   "source": []
  }
 ],
 "metadata": {
  "kernelspec": {
   "display_name": "Python 3",
   "language": "python",
   "name": "python3"
  },
  "language_info": {
   "codemirror_mode": {
    "name": "ipython",
    "version": 3
   },
   "file_extension": ".py",
   "mimetype": "text/x-python",
   "name": "python",
   "nbconvert_exporter": "python",
   "pygments_lexer": "ipython3",
   "version": "3.4.3"
  }
 },
 "nbformat": 4,
 "nbformat_minor": 0
}
